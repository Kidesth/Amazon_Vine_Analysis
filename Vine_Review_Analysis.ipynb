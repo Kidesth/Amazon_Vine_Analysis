{
  "nbformat": 4,
  "nbformat_minor": 0,
  "metadata": {
    "colab": {
      "provenance": []
    },
    "kernelspec": {
      "name": "python3",
      "display_name": "Python 3"
    },
    "language_info": {
      "name": "python"
    }
  },
  "cells": [
    {
      "cell_type": "code",
      "execution_count": 1,
      "metadata": {
        "colab": {
          "base_uri": "https://localhost:8080/"
        },
        "id": "imvFLvF5JOcU",
        "outputId": "ae5220e8-8ca7-4980-d75a-35a1598a4899"
      },
      "outputs": [
        {
          "output_type": "stream",
          "name": "stdout",
          "text": [
            "\r0% [Working]\r            \rHit:1 https://cloud.r-project.org/bin/linux/ubuntu bionic-cran40/ InRelease\n",
            "\r0% [Connecting to archive.ubuntu.com (185.125.190.36)] [Connecting to security.\r                                                                               \rIgn:2 https://developer.download.nvidia.com/compute/machine-learning/repos/ubuntu1804/x86_64  InRelease\n",
            "\r0% [Connecting to archive.ubuntu.com (185.125.190.36)] [Connecting to security.\r0% [1 InRelease gpgv 3,626 B] [Connecting to archive.ubuntu.com (185.125.190.36\r                                                                               \rHit:3 https://developer.download.nvidia.com/compute/cuda/repos/ubuntu1804/x86_64  InRelease\n",
            "\r0% [1 InRelease gpgv 3,626 B] [Connecting to archive.ubuntu.com (185.125.190.36\r                                                                               \rHit:4 https://developer.download.nvidia.com/compute/machine-learning/repos/ubuntu1804/x86_64  Release\n",
            "Get:5 http://security.ubuntu.com/ubuntu bionic-security InRelease [88.7 kB]\n",
            "Hit:6 http://archive.ubuntu.com/ubuntu bionic InRelease\n",
            "Hit:7 http://ppa.launchpad.net/c2d4u.team/c2d4u4.0+/ubuntu bionic InRelease\n",
            "Get:8 http://archive.ubuntu.com/ubuntu bionic-updates InRelease [88.7 kB]\n",
            "Hit:9 http://ppa.launchpad.net/cran/libgit2/ubuntu bionic InRelease\n",
            "Hit:11 http://ppa.launchpad.net/deadsnakes/ppa/ubuntu bionic InRelease\n",
            "Get:12 http://archive.ubuntu.com/ubuntu bionic-backports InRelease [83.3 kB]\n",
            "Hit:13 http://ppa.launchpad.net/graphics-drivers/ppa/ubuntu bionic InRelease\n",
            "Fetched 261 kB in 3s (77.5 kB/s)\n",
            "Reading package lists... Done\n"
          ]
        }
      ],
      "source": [
        "import os\n",
        "# Find the latest version of spark 3.0  from http://www.apache.org/dist/spark/ and enter as the spark version\n",
        "# For example:\n",
        "# spark_version = 'spark-3.0.3'\n",
        "spark_version = 'spark-3.2.2'\n",
        "os.environ['SPARK_VERSION']=spark_version\n",
        "\n",
        "# # Install Spark and Java\n",
        "!apt-get update\n",
        "!apt-get install openjdk-11-jdk-headless -qq > /dev/null\n",
        "!wget -q http://www.apache.org/dist/spark/$SPARK_VERSION/$SPARK_VERSION-bin-hadoop2.7.tgz\n",
        "!tar xf $SPARK_VERSION-bin-hadoop2.7.tgz\n",
        "!pip install -q findspark\n",
        "\n",
        "# Set Environment Variables\n",
        "os.environ[\"JAVA_HOME\"] = \"/usr/lib/jvm/java-11-openjdk-amd64\"\n",
        "os.environ[\"SPARK_HOME\"] = f\"/content/{spark_version}-bin-hadoop2.7\"\n",
        "\n",
        "# Start a SparkSession\n",
        "import findspark\n",
        "findspark.init()\n",
        "# import os\n",
        "# spark_version = 'spark-3.3.0'\n",
        "# os.environ['SPARK_VERSION'] = spark_version\n",
        "\n",
        "# # Install Spark and Java\n",
        "# !apt-get update\n",
        "# !apt-get install openjdk-11-jdk-headless -qq > /dev/null\n",
        "# !wget -q http://www.apache.org/dist/spark/$SPARK_VERSION/$SPARK_VERSION-bin-hadoop3.tgz\n",
        "# !tar xf $SPARK_VERSION-bin-hadoop3.tgz\n",
        "# !pip install -q findspark\n",
        "\n",
        "# # Install Postgres Driver\n",
        "# !wget https://jdbc.postgresql.org/download/postgresql-42.5.0.jar\n",
        "\n",
        "# # Set Environment Variables\n",
        "# os.environ[\"JAVA_HOME\"] = \"/usr/lib/jvm/java-11-openjdk-amd64\"\n",
        "# os.environ[\"SPARK_HOME\"] = f\"/content/{spark_version}-bin-hadoop3\"\n",
        "\n",
        "# Start a SparkSession\n",
        "import findspark\n",
        "findspark.init()"
      ]
    },
    {
      "cell_type": "code",
      "source": [
        "from pyspark.sql import SparkSession\n",
        "spark = SparkSession.builder.appName(\"BigData-Challenge\").config(\"spark.driver.extraClassPath\",\"/content/postgresql-42.2.16.jar\").getOrCreate()"
      ],
      "metadata": {
        "id": "tdv4VMSENzHO"
      },
      "execution_count": 2,
      "outputs": []
    },
    {
      "cell_type": "code",
      "source": [
        "from pyspark import SparkFiles\n",
        "url = \"https://s3.amazonaws.com/amazon-reviews-pds/tsv/amazon_reviews_us_Personal_Care_Appliances_v1_00.tsv.gz\"\n",
        "spark.sparkContext.addFile(url)\n",
        "df = spark.read.option(\"encoding\", \"UTF-8\").csv(SparkFiles.get(\"amazon_reviews_us_Personal_Care_Appliances_v1_00.tsv.gz\"), sep=\"\\t\", header=True, inferSchema=True)\n",
        "df.show(20)"
      ],
      "metadata": {
        "colab": {
          "base_uri": "https://localhost:8080/"
        },
        "id": "Nk7Qr8M7O3qF",
        "outputId": "b3a3838d-1517-417a-b0ff-3419d8dca54d"
      },
      "execution_count": 3,
      "outputs": [
        {
          "output_type": "stream",
          "name": "stdout",
          "text": [
            "+-----------+-----------+--------------+----------+--------------+--------------------+--------------------+-----------+-------------+-----------+----+-----------------+--------------------+--------------------+-----------+\n",
            "|marketplace|customer_id|     review_id|product_id|product_parent|       product_title|    product_category|star_rating|helpful_votes|total_votes|vine|verified_purchase|     review_headline|         review_body|review_date|\n",
            "+-----------+-----------+--------------+----------+--------------+--------------------+--------------------+-----------+-------------+-----------+----+-----------------+--------------------+--------------------+-----------+\n",
            "|         US|   32114233|R1QX6706ZWJ1P5|B00OYRW4UE|     223980852|Elite Sportz Exer...|Personal_Care_App...|          5|            0|          0|   N|                Y|Good quality. Shi...|Exactly as descri...| 2015-08-31|\n",
            "|         US|   18125776|R3QWMLJHIW6P37|B0000537JQ|     819771537|     Ezy Dose Weekly|Personal_Care_App...|          5|            0|          0|   N|                Y|          Five Stars|         It is great| 2015-08-31|\n",
            "|         US|   19917519|R14Z1VR1N0Z9G6|B00HXXO332|     849307176|Pulse Oximeter, B...|Personal_Care_App...|          5|            1|          1|   N|                Y|It's really nice ...|It's really nice ...| 2015-08-31|\n",
            "|         US|   18277171| R25ZRJL0GH0U0|B00EOB0JA2|     700864740|SE Tools Tool Kit...|Personal_Care_App...|          2|            0|          0|   N|                Y|           Two Stars|The kit works fin...| 2015-08-31|\n",
            "|         US|    2593270|R3837KYH7AZNIY|B00OC2O1UC|     794298839|doTERRA HD Clear ...|Personal_Care_App...|          4|            0|          1|   N|                Y|          Four Stars|It works better t...| 2015-08-31|\n",
            "|         US|    2592955|R2MN0QYCY6EVIV|B00HES9CMS|     318730927|Viva Naturals #1 ...|Personal_Care_App...|          5|            0|          0|   N|                Y|      not bad at all|I added to my oat...| 2015-08-31|\n",
            "|         US|   15168265|R3AN2UJ1D42ZS0|B0016BFR4G|     887476137|Uncle Lee's Organ...|Personal_Care_App...|          5|            0|          0|   N|                Y|Mild, enjoyable t...|Husband drinks th...| 2015-08-31|\n",
            "|         US|   13761624|R3U29ZLUWEEK4M|B00K504UUG|     458706868|Syrtenty Electrod...|Personal_Care_App...|          5|            0|          0|   N|                Y|          Five Stars|       Good quality.| 2015-08-31|\n",
            "|         US|   37070734|R16ZDMJJHK796C|B00HES9CMS|     318730927|Viva Naturals #1 ...|Personal_Care_App...|          5|            0|          0|   N|                N|        High Quality|This is high qual...| 2015-08-31|\n",
            "|         US|   29615023| RRRDOEJZD1Y22|B00P6TUO5G|     170248843|Viva Naturals Org...|Personal_Care_App...|          4|            0|          0|   N|                Y|          we like it|Buying more produ...| 2015-08-31|\n",
            "|         US|   47893062|R2KR5ZEAS859DK|B0006VJ6TO|     412568457|Body Back Company...|Personal_Care_App...|          5|            0|          0|   N|                Y|          Five Stars|    Their best cane.| 2015-08-31|\n",
            "|         US|    2582596| RR7PGQY763IHF|B00H9L7VIW|     851045898|boostULTIMATE - 6...|Personal_Care_App...|          5|            0|          0|   N|                Y|       Great product|Great product! Ma...| 2015-08-31|\n",
            "|         US|   21969415| RN37YYZBP9BMP|B00P1JNZUW|     274294586|doTERRA Veráge Sk...|Personal_Care_App...|          5|            4|          4|   N|                Y|Love the prouduct...|Love the prouduct...| 2015-08-31|\n",
            "|         US|   43153609| R1UXGB70OR5TW|B00N5HD340|     955577225|      Straight Razor|Personal_Care_App...|          5|            0|          0|   N|                Y|          Five Stars|          great buy.| 2015-08-31|\n",
            "|         US|   17782951|R1OC5ZNXSGO7P1|B0007DHMVK|      78719480|BONGER Massage To...|Personal_Care_App...|          5|            0|          0|   N|                Y|          Five stars|These are so much...| 2015-08-31|\n",
            "|         US|   13710264|R1W4ZN8BPVNWK3|B0002JG2NI|     900996767|Home Health Casto...|Personal_Care_App...|          5|            0|          0|   N|                Y|It works for home...|It works for home...| 2015-08-31|\n",
            "|         US|   30720884|R2KE33CNN5X2B0|B00OYRW4UE|     223980852|Elite Sportz Exer...|Personal_Care_App...|          5|            0|          0|   N|                Y|These work great ...|These work great ...| 2015-08-31|\n",
            "|         US|   35206254|R1A26EDSO0U5N6|B00598WT0C|     218203731|Aloha Eyewear “St...|Personal_Care_App...|          5|            0|          0|   N|                Y|             awesome|for anyone needin...| 2015-08-31|\n",
            "|         US|   10261156|R3L81GOHVS3E9P|B0006VJ6TO|     412568457|Body Back Company...|Personal_Care_App...|          5|            0|          0|   N|                Y| Deep tissue massage|This works perfec...| 2015-08-31|\n",
            "|         US|   50708344| RNFW9SWC5D0YF|B00J7G96NK|     256041044|Oral B Glide Flos...|Personal_Care_App...|          5|            2|          2|   N|                N|These are an esse...|Not only are thes...| 2015-08-31|\n",
            "+-----------+-----------+--------------+----------+--------------+--------------------+--------------------+-----------+-------------+-----------+----+-----------------+--------------------+--------------------+-----------+\n",
            "only showing top 20 rows\n",
            "\n"
          ]
        }
      ]
    },
    {
      "cell_type": "markdown",
      "source": [],
      "metadata": {
        "id": "HU0960zFQ3Ir"
      }
    },
    {
      "cell_type": "code",
      "source": [
        "df.count()"
      ],
      "metadata": {
        "colab": {
          "base_uri": "https://localhost:8080/"
        },
        "id": "GufyEBOLREZb",
        "outputId": "1d2a1b04-cfc3-4488-f205-9f4a7960ec92"
      },
      "execution_count": 4,
      "outputs": [
        {
          "output_type": "execute_result",
          "data": {
            "text/plain": [
              "85981"
            ]
          },
          "metadata": {},
          "execution_count": 4
        }
      ]
    },
    {
      "cell_type": "code",
      "source": [
        "# Load in a sql function to use columns\n",
        "from pyspark.sql.functions import col\n",
        "\n",
        "# Filter for only columns with total_votes equal or greater than 20\n",
        "total_votes_20plus_df = df.filter(col(\"total_votes\") >= 20)\n",
        "total_votes_20plus_df.show(10)"
      ],
      "metadata": {
        "colab": {
          "base_uri": "https://localhost:8080/"
        },
        "id": "0EAg39xnRLyg",
        "outputId": "e8e8b88c-5b77-4df4-964f-58edb81026f4"
      },
      "execution_count": 5,
      "outputs": [
        {
          "output_type": "stream",
          "name": "stdout",
          "text": [
            "+-----------+-----------+--------------+----------+--------------+--------------------+--------------------+-----------+-------------+-----------+----+-----------------+--------------------+--------------------+-----------+\n",
            "|marketplace|customer_id|     review_id|product_id|product_parent|       product_title|    product_category|star_rating|helpful_votes|total_votes|vine|verified_purchase|     review_headline|         review_body|review_date|\n",
            "+-----------+-----------+--------------+----------+--------------+--------------------+--------------------+-----------+-------------+-----------+----+-----------------+--------------------+--------------------+-----------+\n",
            "|         US|   26034089|R2PT2X8FMYFCV3|B00PV2QSLW|     991555077|Pride Mobility Go...|Personal_Care_App...|          5|           39|         41|   N|                Y|          Five Stars|Nice not too heav...| 2015-08-18|\n",
            "|         US|   19214268| RGCUQSH80SYY7|B00H8ZTLLY|     548146182|doTERRA On Guard ...|Personal_Care_App...|          1|           36|         47|   N|                N|These are natural...|After carrying th...| 2015-08-18|\n",
            "|         US|   42150992|R3E6EI073KP0AL|B00V2L5JRA|     417635592|Xtreme Comforts C...|Personal_Care_App...|          2|           21|         36|   N|                Y|Bad fit in a full...|I am 6'2&#34; tal...| 2015-08-18|\n",
            "|         US|   45452861|R3MYTXW7B4Z6YW|B0118Q011M|      68185001|URPOWER 2nd Gener...|Personal_Care_App...|          4|          687|        711|   N|                Y|Nice large volume...|Unlike most of th...| 2015-08-17|\n",
            "|         US|   52683195|R2WMF1IWN5ZYO4|B00H8ZTLLY|     548146182|doTERRA On Guard ...|Personal_Care_App...|          5|           18|         24|   N|                Y|Keeping you healt...|These are suppose...| 2015-08-12|\n",
            "|         US|   21846884| ROX6L7VJFS2P7|B0118Q011M|      68185001|URPOWER 2nd Gener...|Personal_Care_App...|          5|          339|        371|   N|                N|Powerful and Long...|[[VIDEOID:c484c8f...| 2015-08-09|\n",
            "|         US|    1843395| RRKAST7D4QTW8|B0006VJ6TO|     412568457|Body Back Company...|Personal_Care_App...|          1|           20|         27|   N|                N|           Defective|The knob that is ...| 2015-08-08|\n",
            "|         US|   28543917|R2QBKTWBDPL8BF|B0118Q011M|      68185001|URPOWER 2nd Gener...|Personal_Care_App...|          5|           65|         83|   N|                N|Highly recommend ...|Lately I am so st...| 2015-08-07|\n",
            "|         US|     823020|R3ULT9I0U79N8L|B00ZORXZC4|     997310024|Baetea Weight Los...|Personal_Care_App...|          5|           49|         57|   N|                N|I love the blend ...|I love the blend ...| 2015-08-05|\n",
            "|         US|    5234479|R20LABVEB8O83Q|B00V2L5JRA|     417635592|Xtreme Comforts C...|Personal_Care_App...|          3|           11|         23|   N|                Y|made real nice bu...|This product is m...| 2015-08-03|\n",
            "+-----------+-----------+--------------+----------+--------------+--------------------+--------------------+-----------+-------------+-----------+----+-----------------+--------------------+--------------------+-----------+\n",
            "only showing top 10 rows\n",
            "\n"
          ]
        }
      ]
    },
    {
      "cell_type": "code",
      "source": [
        "# Filter the data helpful_votes over total_votes is >=50%\n",
        "helpful_votes_50plus_df = total_votes_20plus_df.filter(col(\"helpful_votes\")/col(\"total_votes\") >= .50)\n",
        "helpful_votes_50plus_df.show(10)"
      ],
      "metadata": {
        "colab": {
          "base_uri": "https://localhost:8080/"
        },
        "id": "5JCqpM48S95r",
        "outputId": "1396eb6e-3daa-43a6-b0b0-593a2b66fde5"
      },
      "execution_count": 6,
      "outputs": [
        {
          "output_type": "stream",
          "name": "stdout",
          "text": [
            "+-----------+-----------+--------------+----------+--------------+--------------------+--------------------+-----------+-------------+-----------+----+-----------------+--------------------+--------------------+-----------+\n",
            "|marketplace|customer_id|     review_id|product_id|product_parent|       product_title|    product_category|star_rating|helpful_votes|total_votes|vine|verified_purchase|     review_headline|         review_body|review_date|\n",
            "+-----------+-----------+--------------+----------+--------------+--------------------+--------------------+-----------+-------------+-----------+----+-----------------+--------------------+--------------------+-----------+\n",
            "|         US|   26034089|R2PT2X8FMYFCV3|B00PV2QSLW|     991555077|Pride Mobility Go...|Personal_Care_App...|          5|           39|         41|   N|                Y|          Five Stars|Nice not too heav...| 2015-08-18|\n",
            "|         US|   19214268| RGCUQSH80SYY7|B00H8ZTLLY|     548146182|doTERRA On Guard ...|Personal_Care_App...|          1|           36|         47|   N|                N|These are natural...|After carrying th...| 2015-08-18|\n",
            "|         US|   42150992|R3E6EI073KP0AL|B00V2L5JRA|     417635592|Xtreme Comforts C...|Personal_Care_App...|          2|           21|         36|   N|                Y|Bad fit in a full...|I am 6'2&#34; tal...| 2015-08-18|\n",
            "|         US|   45452861|R3MYTXW7B4Z6YW|B0118Q011M|      68185001|URPOWER 2nd Gener...|Personal_Care_App...|          4|          687|        711|   N|                Y|Nice large volume...|Unlike most of th...| 2015-08-17|\n",
            "|         US|   52683195|R2WMF1IWN5ZYO4|B00H8ZTLLY|     548146182|doTERRA On Guard ...|Personal_Care_App...|          5|           18|         24|   N|                Y|Keeping you healt...|These are suppose...| 2015-08-12|\n",
            "|         US|   21846884| ROX6L7VJFS2P7|B0118Q011M|      68185001|URPOWER 2nd Gener...|Personal_Care_App...|          5|          339|        371|   N|                N|Powerful and Long...|[[VIDEOID:c484c8f...| 2015-08-09|\n",
            "|         US|    1843395| RRKAST7D4QTW8|B0006VJ6TO|     412568457|Body Back Company...|Personal_Care_App...|          1|           20|         27|   N|                N|           Defective|The knob that is ...| 2015-08-08|\n",
            "|         US|   28543917|R2QBKTWBDPL8BF|B0118Q011M|      68185001|URPOWER 2nd Gener...|Personal_Care_App...|          5|           65|         83|   N|                N|Highly recommend ...|Lately I am so st...| 2015-08-07|\n",
            "|         US|     823020|R3ULT9I0U79N8L|B00ZORXZC4|     997310024|Baetea Weight Los...|Personal_Care_App...|          5|           49|         57|   N|                N|I love the blend ...|I love the blend ...| 2015-08-05|\n",
            "|         US|   30520248| RAC19YVDYSIKB|B011J79PNK|     524658987|iReliev TENS + EM...|Personal_Care_App...|          5|          161|        178|   N|                Y|Awesome experienc...|Just ordered it t...| 2015-08-01|\n",
            "+-----------+-----------+--------------+----------+--------------+--------------------+--------------------+-----------+-------------+-----------+----+-----------------+--------------------+--------------------+-----------+\n",
            "only showing top 10 rows\n",
            "\n"
          ]
        }
      ]
    },
    {
      "cell_type": "code",
      "source": [
        "# Filter the data where a review was as part of the vine program\n",
        "paid_vine_df = helpful_votes_50plus_df.filter(col(\"vine\") == 'Y')\n",
        "paid_vine_df.show()"
      ],
      "metadata": {
        "colab": {
          "base_uri": "https://localhost:8080/"
        },
        "id": "VQeKA7j7RpL7",
        "outputId": "5552d3b4-1ade-4f43-87ef-9c26287c1602"
      },
      "execution_count": 7,
      "outputs": [
        {
          "output_type": "stream",
          "name": "stdout",
          "text": [
            "+-----------+-----------+--------------+----------+--------------+--------------------+--------------------+-----------+-------------+-----------+----+-----------------+--------------------+--------------------+-----------+\n",
            "|marketplace|customer_id|     review_id|product_id|product_parent|       product_title|    product_category|star_rating|helpful_votes|total_votes|vine|verified_purchase|     review_headline|         review_body|review_date|\n",
            "+-----------+-----------+--------------+----------+--------------+--------------------+--------------------+-----------+-------------+-----------+----+-----------------+--------------------+--------------------+-----------+\n",
            "|         US|   35353346|R3R2RHQWEKX5NL|B00DSICT1Y|     427004417|uComfy Shiatsu Fo...|Personal_Care_App...|          5|           81|         89|   Y|                N|You can hear your...|First off one bit...| 2014-01-13|\n",
            "|         US|   50929595|R1RZ4JZO8DAP7H|B00DSICT1Y|     427004417|uComfy Shiatsu Fo...|Personal_Care_App...|          3|          200|        227|   Y|                N|Good shiatsu and ...|[[VIDEOID:mo1RJDR...| 2014-01-12|\n",
            "|         US|   29142162| RQ94HI0WM8KIG|B00DSICT1Y|     427004417|uComfy Shiatsu Fo...|Personal_Care_App...|          5|          174|        188|   Y|                N|Great Massager - ...|Usually when I go...| 2014-01-08|\n",
            "+-----------+-----------+--------------+----------+--------------+--------------------+--------------------+-----------+-------------+-----------+----+-----------------+--------------------+--------------------+-----------+\n",
            "\n"
          ]
        }
      ]
    },
    {
      "cell_type": "code",
      "source": [
        "paid_vine_df.count()"
      ],
      "metadata": {
        "colab": {
          "base_uri": "https://localhost:8080/"
        },
        "id": "eGBU386jVlkr",
        "outputId": "4b087e80-01de-4feb-cb41-e1d55a0c078f"
      },
      "execution_count": 8,
      "outputs": [
        {
          "output_type": "execute_result",
          "data": {
            "text/plain": [
              "3"
            ]
          },
          "metadata": {},
          "execution_count": 8
        }
      ]
    },
    {
      "cell_type": "code",
      "source": [
        "# Filter the data where a review was not  as part of the vine program\n",
        "unpaid_vine_df = helpful_votes_50plus_df.filter(col(\"vine\") == 'N')\n",
        "unpaid_vine_df.show(10)"
      ],
      "metadata": {
        "colab": {
          "base_uri": "https://localhost:8080/"
        },
        "id": "VgU0spOUVvIT",
        "outputId": "419af49c-0f6d-48b9-cf28-97bf687ba209"
      },
      "execution_count": 21,
      "outputs": [
        {
          "output_type": "stream",
          "name": "stdout",
          "text": [
            "+-----------+-----------+--------------+----------+--------------+--------------------+--------------------+-----------+-------------+-----------+----+-----------------+--------------------+--------------------+-----------+\n",
            "|marketplace|customer_id|     review_id|product_id|product_parent|       product_title|    product_category|star_rating|helpful_votes|total_votes|vine|verified_purchase|     review_headline|         review_body|review_date|\n",
            "+-----------+-----------+--------------+----------+--------------+--------------------+--------------------+-----------+-------------+-----------+----+-----------------+--------------------+--------------------+-----------+\n",
            "|         US|   26034089|R2PT2X8FMYFCV3|B00PV2QSLW|     991555077|Pride Mobility Go...|Personal_Care_App...|          5|           39|         41|   N|                Y|          Five Stars|Nice not too heav...| 2015-08-18|\n",
            "|         US|   19214268| RGCUQSH80SYY7|B00H8ZTLLY|     548146182|doTERRA On Guard ...|Personal_Care_App...|          1|           36|         47|   N|                N|These are natural...|After carrying th...| 2015-08-18|\n",
            "|         US|   42150992|R3E6EI073KP0AL|B00V2L5JRA|     417635592|Xtreme Comforts C...|Personal_Care_App...|          2|           21|         36|   N|                Y|Bad fit in a full...|I am 6'2&#34; tal...| 2015-08-18|\n",
            "|         US|   45452861|R3MYTXW7B4Z6YW|B0118Q011M|      68185001|URPOWER 2nd Gener...|Personal_Care_App...|          4|          687|        711|   N|                Y|Nice large volume...|Unlike most of th...| 2015-08-17|\n",
            "|         US|   52683195|R2WMF1IWN5ZYO4|B00H8ZTLLY|     548146182|doTERRA On Guard ...|Personal_Care_App...|          5|           18|         24|   N|                Y|Keeping you healt...|These are suppose...| 2015-08-12|\n",
            "|         US|   21846884| ROX6L7VJFS2P7|B0118Q011M|      68185001|URPOWER 2nd Gener...|Personal_Care_App...|          5|          339|        371|   N|                N|Powerful and Long...|[[VIDEOID:c484c8f...| 2015-08-09|\n",
            "|         US|    1843395| RRKAST7D4QTW8|B0006VJ6TO|     412568457|Body Back Company...|Personal_Care_App...|          1|           20|         27|   N|                N|           Defective|The knob that is ...| 2015-08-08|\n",
            "|         US|   28543917|R2QBKTWBDPL8BF|B0118Q011M|      68185001|URPOWER 2nd Gener...|Personal_Care_App...|          5|           65|         83|   N|                N|Highly recommend ...|Lately I am so st...| 2015-08-07|\n",
            "|         US|     823020|R3ULT9I0U79N8L|B00ZORXZC4|     997310024|Baetea Weight Los...|Personal_Care_App...|          5|           49|         57|   N|                N|I love the blend ...|I love the blend ...| 2015-08-05|\n",
            "|         US|   30520248| RAC19YVDYSIKB|B011J79PNK|     524658987|iReliev TENS + EM...|Personal_Care_App...|          5|          161|        178|   N|                Y|Awesome experienc...|Just ordered it t...| 2015-08-01|\n",
            "+-----------+-----------+--------------+----------+--------------+--------------------+--------------------+-----------+-------------+-----------+----+-----------------+--------------------+--------------------+-----------+\n",
            "only showing top 10 rows\n",
            "\n"
          ]
        }
      ]
    },
    {
      "cell_type": "code",
      "source": [
        "unpaid_vine_df.count()"
      ],
      "metadata": {
        "colab": {
          "base_uri": "https://localhost:8080/"
        },
        "id": "tGESjLJGWZsO",
        "outputId": "8fc0e846-43bf-45dc-c5a7-37df63026d02"
      },
      "execution_count": 10,
      "outputs": [
        {
          "output_type": "execute_result",
          "data": {
            "text/plain": [
              "3094"
            ]
          },
          "metadata": {},
          "execution_count": 10
        }
      ]
    },
    {
      "cell_type": "code",
      "source": [
        "# filter total number of 5- star review piad\n",
        "paid_star_rating_df = paid_vine_df.filter(col(\"star_rating\") == 5)\n",
        "paid_star_rating_df.show()"
      ],
      "metadata": {
        "colab": {
          "base_uri": "https://localhost:8080/"
        },
        "id": "3gzivLwuWejL",
        "outputId": "925ab2a2-f064-48f5-84f4-eb30c5834d53"
      },
      "execution_count": 11,
      "outputs": [
        {
          "output_type": "stream",
          "name": "stdout",
          "text": [
            "+-----------+-----------+--------------+----------+--------------+--------------------+--------------------+-----------+-------------+-----------+----+-----------------+--------------------+--------------------+-----------+\n",
            "|marketplace|customer_id|     review_id|product_id|product_parent|       product_title|    product_category|star_rating|helpful_votes|total_votes|vine|verified_purchase|     review_headline|         review_body|review_date|\n",
            "+-----------+-----------+--------------+----------+--------------+--------------------+--------------------+-----------+-------------+-----------+----+-----------------+--------------------+--------------------+-----------+\n",
            "|         US|   35353346|R3R2RHQWEKX5NL|B00DSICT1Y|     427004417|uComfy Shiatsu Fo...|Personal_Care_App...|          5|           81|         89|   Y|                N|You can hear your...|First off one bit...| 2014-01-13|\n",
            "|         US|   29142162| RQ94HI0WM8KIG|B00DSICT1Y|     427004417|uComfy Shiatsu Fo...|Personal_Care_App...|          5|          174|        188|   Y|                N|Great Massager - ...|Usually when I go...| 2014-01-08|\n",
            "+-----------+-----------+--------------+----------+--------------+--------------------+--------------------+-----------+-------------+-----------+----+-----------------+--------------------+--------------------+-----------+\n",
            "\n"
          ]
        }
      ]
    },
    {
      "cell_type": "code",
      "source": [
        "paid_star_rating_df.count()"
      ],
      "metadata": {
        "colab": {
          "base_uri": "https://localhost:8080/"
        },
        "id": "1zOZAh1GZnQU",
        "outputId": "87a995ba-d495-4e13-ab1a-87c12a5bb2fd"
      },
      "execution_count": 12,
      "outputs": [
        {
          "output_type": "execute_result",
          "data": {
            "text/plain": [
              "2"
            ]
          },
          "metadata": {},
          "execution_count": 12
        }
      ]
    },
    {
      "cell_type": "code",
      "source": [
        "# filter total number of 5- star review unpiad\n",
        "unpaid_star_rating_df = unpaid_vine_df.filter(col(\"star_rating\") == 5)\n",
        "unpaid_star_rating_df.show(10)"
      ],
      "metadata": {
        "colab": {
          "base_uri": "https://localhost:8080/"
        },
        "id": "oLjJ3fXdXQeH",
        "outputId": "c688deca-c820-435e-f146-1ff154b1e99b"
      },
      "execution_count": 13,
      "outputs": [
        {
          "output_type": "stream",
          "name": "stdout",
          "text": [
            "+-----------+-----------+--------------+----------+--------------+--------------------+--------------------+-----------+-------------+-----------+----+-----------------+--------------------+--------------------+-----------+\n",
            "|marketplace|customer_id|     review_id|product_id|product_parent|       product_title|    product_category|star_rating|helpful_votes|total_votes|vine|verified_purchase|     review_headline|         review_body|review_date|\n",
            "+-----------+-----------+--------------+----------+--------------+--------------------+--------------------+-----------+-------------+-----------+----+-----------------+--------------------+--------------------+-----------+\n",
            "|         US|   26034089|R2PT2X8FMYFCV3|B00PV2QSLW|     991555077|Pride Mobility Go...|Personal_Care_App...|          5|           39|         41|   N|                Y|          Five Stars|Nice not too heav...| 2015-08-18|\n",
            "|         US|   52683195|R2WMF1IWN5ZYO4|B00H8ZTLLY|     548146182|doTERRA On Guard ...|Personal_Care_App...|          5|           18|         24|   N|                Y|Keeping you healt...|These are suppose...| 2015-08-12|\n",
            "|         US|   21846884| ROX6L7VJFS2P7|B0118Q011M|      68185001|URPOWER 2nd Gener...|Personal_Care_App...|          5|          339|        371|   N|                N|Powerful and Long...|[[VIDEOID:c484c8f...| 2015-08-09|\n",
            "|         US|   28543917|R2QBKTWBDPL8BF|B0118Q011M|      68185001|URPOWER 2nd Gener...|Personal_Care_App...|          5|           65|         83|   N|                N|Highly recommend ...|Lately I am so st...| 2015-08-07|\n",
            "|         US|     823020|R3ULT9I0U79N8L|B00ZORXZC4|     997310024|Baetea Weight Los...|Personal_Care_App...|          5|           49|         57|   N|                N|I love the blend ...|I love the blend ...| 2015-08-05|\n",
            "|         US|   30520248| RAC19YVDYSIKB|B011J79PNK|     524658987|iReliev TENS + EM...|Personal_Care_App...|          5|          161|        178|   N|                Y|Awesome experienc...|Just ordered it t...| 2015-08-01|\n",
            "|         US|   20322164|R2AYFA0X50V4BN|B00H8ZTLLY|     548146182|doTERRA On Guard ...|Personal_Care_App...|          5|           19|         20|   N|                Y|Perfect travel size.|I love these! Per...| 2015-07-19|\n",
            "|         US|     290020|R1FANBM03J1IHE|B00H9L7VIW|     851045898|boostULTIMATE - 6...|Personal_Care_App...|          5|           24|         31|   N|                N|This does what it...|This product I've...| 2015-07-09|\n",
            "|         US|   51695938|R3JV04CHH10FFR|B00P8ED24E|     378774243|Syrtenty Snap Ele...|Personal_Care_App...|          5|           32|         32|   N|                Y|Large butterfly p...|Finally!  I've be...| 2015-06-20|\n",
            "|         US|   43963820|R1K0BP4TF3U8EH|B00WLTPRYM|     543843158|Baetea Weight Los...|Personal_Care_App...|          5|           23|         37|   N|                Y|    It really works!|I was given this ...| 2015-06-14|\n",
            "+-----------+-----------+--------------+----------+--------------+--------------------+--------------------+-----------+-------------+-----------+----+-----------------+--------------------+--------------------+-----------+\n",
            "only showing top 10 rows\n",
            "\n"
          ]
        }
      ]
    },
    {
      "cell_type": "code",
      "source": [
        "unpaid_star_rating_df.count()"
      ],
      "metadata": {
        "colab": {
          "base_uri": "https://localhost:8080/"
        },
        "id": "Vx03xsnoYdCq",
        "outputId": "05837a45-7e2e-4440-8ab7-b2289e9ceec1"
      },
      "execution_count": 14,
      "outputs": [
        {
          "output_type": "execute_result",
          "data": {
            "text/plain": [
              "1704"
            ]
          },
          "metadata": {},
          "execution_count": 14
        }
      ]
    },
    {
      "cell_type": "code",
      "source": [
        "# filter Percentage of 5- star reviews piad\n",
        "percent_paid = (paid_star_rating_df.count()) / (paid_vine_df.count())*100\n",
        "print(\"percentage of 5 star reviews for paid vine program was: %f\" % percent_paid + \"%\")"
      ],
      "metadata": {
        "colab": {
          "base_uri": "https://localhost:8080/"
        },
        "id": "JnY76n5RYjJu",
        "outputId": "d23d0818-cdaf-4208-ac9f-2f058098fedd"
      },
      "execution_count": 46,
      "outputs": [
        {
          "output_type": "stream",
          "name": "stdout",
          "text": [
            "percentage of 5 star reviews for paid vine program was: 66.666667%\n"
          ]
        }
      ]
    },
    {
      "cell_type": "code",
      "source": [
        "# filter Percentage of 5- star reviews unpiad\n",
        "percent_unpaid = unpaid_star_rating_df.count() / unpaid_vine_df.count()*100\n",
        "print(\"percentage of 5 star reviews for unpaid vine program was: %f\" % percent_unpaid + \"%\")\n"
      ],
      "metadata": {
        "colab": {
          "base_uri": "https://localhost:8080/"
        },
        "id": "C0QNB23-bFBU",
        "outputId": "be2f691e-9fcc-4a64-cd31-13d376a0f380"
      },
      "execution_count": 47,
      "outputs": [
        {
          "output_type": "stream",
          "name": "stdout",
          "text": [
            "percentage of 5 star reviews for unpaid vine program was: 55.074337%\n"
          ]
        }
      ]
    }
  ]
}